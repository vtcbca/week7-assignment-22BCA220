{
 "cells": [
  {
   "cell_type": "code",
   "execution_count": 1,
   "id": "535f1625",
   "metadata": {},
   "outputs": [],
   "source": [
    "import csv\n"
   ]
  },
  {
   "cell_type": "code",
   "execution_count": 2,
   "id": "2bf00b1b",
   "metadata": {},
   "outputs": [],
   "source": [
    "columns = [\"Prod_No\", \"Prod_Name\", \"Jan\", \"Feb\", \"Mar\", \"Apr\", \"May\", \"Jun\"]\n"
   ]
  },
  {
   "cell_type": "code",
   "execution_count": 3,
   "id": "2bb5afec",
   "metadata": {},
   "outputs": [],
   "source": [
    "# Specify the CSV file name\n",
    "csv_file = \"product_sales.csv\"\n"
   ]
  },
  {
   "cell_type": "code",
   "execution_count": 4,
   "id": "82b57dc0",
   "metadata": {},
   "outputs": [],
   "source": [
    "import pandas as pd"
   ]
  },
  {
   "cell_type": "code",
   "execution_count": 5,
   "id": "f0676088",
   "metadata": {},
   "outputs": [],
   "source": [
    "# Create an empty DataFrame\n",
    "data = {\n",
    "    'Prod_No': [],\n",
    "    'Prod_Name': [],\n",
    "    'Jan': [],\n",
    "    'Feb': [],\n",
    "    'Mar': [],\n",
    "    'Apr': [],\n",
    "    'May': [],\n",
    "    'Jun': []\n",
    "}"
   ]
  },
  {
   "cell_type": "code",
   "execution_count": null,
   "id": "7c2c02bf",
   "metadata": {},
   "outputs": [],
   "source": [
    "# Add 12 records with user input\n",
    "for i in range(12):\n",
    "    prod_no = input(\"Enter Product Number: \")\n",
    "    prod_name = input(\"Enter Product Name: \")\n",
    "    jan = int(input(\"Enter January Sales: \"))\n",
    "    feb = int(input(\"Enter February Sales: \"))\n",
    "    mar = int(input(\"Enter March Sales: \"))\n",
    "    apr = int(input(\"Enter April Sales: \"))\n",
    "    may = int(input(\"Enter May Sales: \"))\n",
    "    jun = int(input(\"Enter June Sales: \"))\n",
    "\n",
    "    data['Prod_No'].append(prod_no)\n",
    "    data['Prod_Name'].append(prod_name)\n",
    "    data['Jan'].append(jan)\n",
    "    data['Feb'].append(feb)\n",
    "    data['Mar'].append(mar)\n",
    "    data['Apr'].append(apr)\n",
    "    data['May'].append(may)\n",
    "    data['Jun'].append(jun)"
   ]
  },
  {
   "cell_type": "markdown",
   "id": "c52daa76",
   "metadata": {},
   "source": [
    "\n"
   ]
  },
  {
   "cell_type": "code",
   "execution_count": null,
   "id": "411abf1d",
   "metadata": {},
   "outputs": [],
   "source": [
    "# Create the DataFrame\n",
    "df = pd.DataFrame(data)"
   ]
  },
  {
   "cell_type": "code",
   "execution_count": null,
   "id": "1d4ba9a5",
   "metadata": {},
   "outputs": [],
   "source": [
    "# Rename columns\n",
    "df.columns = ['Product No', 'Product Name', 'January', 'February', 'March', 'April', 'May', 'June']"
   ]
  },
  {
   "cell_type": "code",
   "execution_count": null,
   "id": "74ee9abc",
   "metadata": {},
   "outputs": [],
   "source": [
    "# Add 'Total Sell' and 'Average Sell' columns\n",
    "df['Total Sell'] = df[['January', 'February', 'March', 'April', 'May', 'June']].sum(axis=1)\n",
    "df['Average Sell'] = df[['January', 'February', 'March', 'April', 'May', 'June']].mean(axis=1)"
   ]
  },
  {
   "cell_type": "code",
   "execution_count": null,
   "id": "30e302ca",
   "metadata": {},
   "outputs": [],
   "source": [
    "# Add 2 rows at the end\n",
    "df = df.append({'Product No': 'P6', 'Product Name': 'Product6', 'January': 100, 'February': 200, 'March': 300, 'April': 400, 'May': 500, 'June': 600}, ignore_index=True)\n",
    "df = df.append({'Product No': 'P7', 'Product Name': 'Product7', 'January': 700, 'February': 800, 'March': 900, 'April': 1000, 'May': 1100, 'June': 1200}, ignore_index=True)"
   ]
  },
  {
   "cell_type": "code",
   "execution_count": null,
   "id": "41f289c4",
   "metadata": {},
   "outputs": [],
   "source": [
    "# Add 2 rows after the 3rd row\n",
    "df = pd.concat([df.iloc[:3], pd.DataFrame({'Product No': ['P8', 'P9'], 'Product Name': ['Product8', 'Product9'], 'January': [800, 900], 'February': [700, 600], 'March': [1000, 1100], 'April': [1200, 1300], 'May': [1100, 1000], 'June': [900, 800]}), df.iloc[3:]], ignore_index=True)\n"
   ]
  },
  {
   "cell_type": "code",
   "execution_count": null,
   "id": "7b51e59b",
   "metadata": {},
   "outputs": [],
   "source": [
    "# Print first 5 rows\n",
    "print(\"First 5 rows:\")\n",
    "print(df.head())\n"
   ]
  },
  {
   "cell_type": "code",
   "execution_count": null,
   "id": "68756e2e",
   "metadata": {},
   "outputs": [],
   "source": [
    "# Print last 5 rows\n",
    "print(\"\\nLast 5 rows:\")\n",
    "print(df.tail())"
   ]
  },
  {
   "cell_type": "code",
   "execution_count": null,
   "id": "62cc7d23",
   "metadata": {},
   "outputs": [],
   "source": [
    "# Print rows 6 to 10\n",
    "print(\"\\nRows 6 to 10:\")\n",
    "print(df.iloc[5:10])"
   ]
  },
  {
   "cell_type": "code",
   "execution_count": null,
   "id": "61fd327a",
   "metadata": {},
   "outputs": [],
   "source": [
    "# Print only product names\n",
    "print(\"\\nProduct Names:\")\n",
    "print(df['Product Name'])"
   ]
  },
  {
   "cell_type": "code",
   "execution_count": null,
   "id": "6db34864",
   "metadata": {},
   "outputs": [],
   "source": [
    "# Print January sales with product id and product name\n",
    "print(\"\\nJanuary Sales:\")\n",
    "print(df[['Product No', 'Product Name', 'January']])"
   ]
  },
  {
   "cell_type": "code",
   "execution_count": null,
   "id": "b7367dd6",
   "metadata": {},
   "outputs": [],
   "source": [
    "# Print records where January sales > 5000 and February sales > 8000\n",
    "print(\"\\nRecords with January > 5000 and February > 8000:\")\n",
    "print(df[(df['January'] > 5000) & (df['February'] > 8000)])"
   ]
  },
  {
   "cell_type": "code",
   "execution_count": null,
   "id": "f355fe17",
   "metadata": {},
   "outputs": [],
   "source": [
    "# Print records in sorting order of Product name\n",
    "print(\"\\nSorted by Product Name:\")\n",
    "print(df.sort_values(by='Product Name'))\n"
   ]
  },
  {
   "cell_type": "code",
   "execution_count": null,
   "id": "64987b65",
   "metadata": {},
   "outputs": [],
   "source": [
    "# Display only odd index number columns\n",
    "print(\"\\nOdd Index Columns:\")\n",
    "print(df.iloc[:, 1::2])"
   ]
  },
  {
   "cell_type": "code",
   "execution_count": null,
   "id": "d74a67eb",
   "metadata": {},
   "outputs": [],
   "source": [
    "# Display alternate rows\n",
    "print(\"\\nAlternate Rows:\")\n",
    "print(df.iloc[::2])"
   ]
  },
  {
   "cell_type": "code",
   "execution_count": null,
   "id": "966e6613",
   "metadata": {},
   "outputs": [],
   "source": []
  },
  {
   "cell_type": "code",
   "execution_count": null,
   "id": "7366d837",
   "metadata": {},
   "outputs": [],
   "source": []
  }
 ],
 "metadata": {
  "kernelspec": {
   "display_name": "Python 3 (ipykernel)",
   "language": "python",
   "name": "python3"
  },
  "language_info": {
   "codemirror_mode": {
    "name": "ipython",
    "version": 3
   },
   "file_extension": ".py",
   "mimetype": "text/x-python",
   "name": "python",
   "nbconvert_exporter": "python",
   "pygments_lexer": "ipython3",
   "version": "3.9.6"
  }
 },
 "nbformat": 4,
 "nbformat_minor": 5
}
